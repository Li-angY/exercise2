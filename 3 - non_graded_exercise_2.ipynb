{
 "cells": [
  {
   "cell_type": "markdown",
   "metadata": {},
   "source": [
    "Write a simple game with the following requirements:\n",
    "\n",
    "1. Print a welcome message that says \"Welcome to Hangman\"\n",
    "2. Store a list of different words that can be used in the game. When the game starts, pick one word randomly. For now, use a list of only single words. \n",
    "3. Display that random word to the user, but display it only as '_' (underscores). e.g., if the word is 'Alice', then only _ _ _ _ _ should be displayed. \n",
    "3. Keep asking the user to guess the word one letter at a time until either the user guesses it correctly, or they run out of total 10 attempts. \n",
    "    3.1. Print how many attempts are left\n",
    "    3.2. Print the current state of the guessed word\n",
    "    3.3. Ask the user enter a single letter\n",
    "    3.4 Every time the user enters something, check that the input is only alphabet and not numbers or special characters. If the user enters such a character, tell the user \"Invalid Character\" and ask the user to try again. \n",
    "    3.5. Keep track of all the letters that the user has entered while playing the game\n",
    "    3.6. If the user enters a letter that was already entered before, inform the user. \n",
    "    3.7. Every time the user makes an incorrect guess, the number of total attempts must be decreased by 1. \n",
    "    3.8. Every time the user makes a correct guess, inform the user that it was correct, fill the word with that letter and continue. For example, if the user enters 'i' when trying to guess the word 'Alice', display to the user _ _ i _ _\n",
    "    3.9 If the entire word has been guessed correctly, display the message \"Awesome! You guessed the word correctly\".\n",
    "4. After the game ends, display \"Thank you for playing. See you next time\" if the user was able to guess the word correctly. Otherwise, display \"Thank you for playing. Better luck next time\" if the user could not guess the word and the number of total attempts is 0. \n",
    "\n",
    "After your have finished writing the program and it works flawlessly, you can COMMIT and then PUSH your program to your GitHub acccount. Then copy that repository link and submit it to \"Non-graded Exercise #2: If-else and Loops\" submission box\n",
    "\n",
    "*** If you still have time and want to try something more, try using a list of multiple words that may have numbers and even special characters. For example, \"Oh, my God!\""
   ]
  },
  {
   "cell_type": "code",
   "execution_count": 1,
   "metadata": {},
   "outputs": [
    {
     "ename": "NameError",
     "evalue": "name 'attempts' is not defined",
     "output_type": "error",
     "traceback": [
      "\u001b[1;31m---------------------------------------------------------------------------\u001b[0m",
      "\u001b[1;31mNameError\u001b[0m                                 Traceback (most recent call last)",
      "Cell \u001b[1;32mIn[1], line 12\u001b[0m\n\u001b[0;32m      8\u001b[0m word_to_guess \u001b[38;5;241m=\u001b[39m random\u001b[38;5;241m.\u001b[39mchoice(word_list)\u001b[38;5;241m.\u001b[39mlower()\n\u001b[0;32m     10\u001b[0m \u001b[38;5;66;03m# Complete the rest of the code. You will have to use the different methods you have learned so far. \u001b[39;00m\n\u001b[1;32m---> 12\u001b[0m \u001b[38;5;28;01mwhile\u001b[39;00m \u001b[43mattempts\u001b[49m \u001b[38;5;241m>\u001b[39m \u001b[38;5;241m0\u001b[39m \u001b[38;5;129;01mand\u001b[39;00m \u001b[38;5;124m'\u001b[39m\u001b[38;5;124m'\u001b[39m\u001b[38;5;241m.\u001b[39mjoin(guessed_word) \u001b[38;5;241m!=\u001b[39m word_to_guess:\n\u001b[0;32m     13\u001b[0m     \u001b[38;5;28mprint\u001b[39m(\u001b[38;5;124m\"\u001b[39m\u001b[38;5;130;01m\\n\u001b[39;00m\u001b[38;5;124mAttempts left:\u001b[39m\u001b[38;5;124m\"\u001b[39m, attempts)\n\u001b[0;32m     14\u001b[0m     \u001b[38;5;28mprint\u001b[39m(\u001b[38;5;124m\"\u001b[39m\u001b[38;5;124mCurrent word:\u001b[39m\u001b[38;5;124m\"\u001b[39m, \u001b[38;5;124m'\u001b[39m\u001b[38;5;124m \u001b[39m\u001b[38;5;124m'\u001b[39m\u001b[38;5;241m.\u001b[39mjoin(guessed_word))\n",
      "\u001b[1;31mNameError\u001b[0m: name 'attempts' is not defined"
     ]
    }
   ],
   "source": [
    "import random # You need this module to select a word randomly\n",
    "\n",
    "# Create a list of words that the game can choose from and then ask the user to guess \n",
    "word_list = ['Alice', 'Python', 'Hangman', 'Computer', 'Program']\n",
    "\n",
    "\n",
    "# Store in this variable a random word from the above word_list\n",
    "word_to_guess = random.choice(word_list).lower()\n",
    "\n",
    "# Complete the rest of the code. You will have to use the different methods you have learned so far. \n",
    "\n",
    "while attempts > 0 and ''.join(guessed_word) != word_to_guess:\n",
    "    print(\"\\nAttempts left:\", attempts)\n",
    "    print(\"Current word:\", ' '.join(guessed_word))\n",
    "    guess = input(\"Enter a single letter: \").lower()\n",
    "\n",
    "    # Input validation\n",
    "    if not guess.isalpha() or len(guess) != 1:\n",
    "        print(\"Invalid Character. Please enter a single alphabetic character.\")\n",
    "        continue\n",
    "\n",
    "    # Check if the letter was already guessed\n",
    "    if guess in guessed_letters:\n",
    "        print(f\"You have already guessed '{guess}'. Try a different letter.\")\n",
    "        continue\n",
    "\n",
    "    # Add the guessed letter to the set of guessed letters\n",
    "    guessed_letters.add(guess)\n",
    "\n",
    "    # Check if the guessed letter is in the word\n",
    "    if guess in word_to_guess:\n",
    "        print(\"Good guess!\")\n",
    "        # Update the guessed word with the correct guess\n",
    "        for index, letter in enumerate(word_to_guess):\n",
    "            if letter == guess:\n",
    "                guessed_word[index] = guess\n",
    "    else:\n",
    "        print(\"Incorrect guess.\")\n",
    "        attempts -= 1\n",
    "\n",
    "# Check if the word was guessed correctly\n",
    "if ''.join(guessed_word) == word_to_guess:\n",
    "    print(\"Awesome! You guessed the word correctly.\")\n",
    "    print(\"Thank you for playing. See you next time!\")\n",
    "else:\n",
    "    print(f\"You ran out of attempts. The word was '{word_to_guess}'.\")\n",
    "    print(\"Thank you for playing. Better luck next time.\")"
   ]
  }
 ],
 "metadata": {
  "kernelspec": {
   "display_name": "Python 3",
   "language": "python",
   "name": "python3"
  },
  "language_info": {
   "codemirror_mode": {
    "name": "ipython",
    "version": 3
   },
   "file_extension": ".py",
   "mimetype": "text/x-python",
   "name": "python",
   "nbconvert_exporter": "python",
   "pygments_lexer": "ipython3",
   "version": "3.11.9"
  }
 },
 "nbformat": 4,
 "nbformat_minor": 2
}
