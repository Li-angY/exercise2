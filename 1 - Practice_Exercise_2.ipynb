{
 "cells": [
  {
   "cell_type": "markdown",
   "metadata": {},
   "source": [
    "1. Ask user to enter a string and check that it is made up only alphabets:"
   ]
  },
  {
   "cell_type": "code",
   "execution_count": null,
   "metadata": {},
   "outputs": [],
   "source": [
    "# Prompt user to enter a string\n",
    "user_input = input(\"Enter a string: \")\n",
    "\n",
    "# Check if the string contains only alphabets\n",
    "if user_input.isalpha():\n",
    "    print(\"The string contains only alphabets.\")\n",
    "else:\n",
    "    print(\"The string contains characters other than alphabets.\")"
   ]
  },
  {
   "cell_type": "markdown",
   "metadata": {},
   "source": [
    "2. Now, make sure that the string is made up of both alphabets and numbers:\n",
    "\n",
    "TRY using isalnum() function and then entering only alhpabets in the string and see what happens."
   ]
  },
  {
   "cell_type": "code",
   "execution_count": null,
   "metadata": {},
   "outputs": [],
   "source": [
    "# Function to check if a string contains both alphabets and numbers\n",
    "def check_string(s):\n",
    "    # Check if the string is alphanumeric\n",
    "    if s.isalnum():\n",
    "        # Check if the string contains both alphabets and numbers\n",
    "        has_alpha = any(char.isalpha() for char in s)\n",
    "        has_digit = any(char.isdigit() for char in s)\n",
    "        \n",
    "        if has_alpha and has_digit:\n",
    "            print(\"The string contains both alphabets and numbers.\")\n",
    "        elif has_alpha:\n",
    "            print(\"The string contains only alphabets.\")\n",
    "        elif has_digit:\n",
    "            print(\"The string contains only numbers.\")\n",
    "        else:\n",
    "            print(\"The string does not contain any alphabets or numbers.\")\n",
    "    else:\n",
    "        print(\"The string is not alphanumeric.\")\n",
    "\n",
    "# Test the function with a string containing only alphabets\n",
    "test_string = \"HelloWorld\"\n",
    "check_string(test_string)\n",
    "\n",
    "# Test the function with a string containing both alphabets and numbers\n",
    "test_string = \"Hello123\"\n",
    "check_string(test_string)\n",
    "\n",
    "# Test the function with a string containing only numbers\n",
    "test_string = \"123456\"\n",
    "check_string(test_string)\n",
    "\n",
    "# Test the function with a string containing special characters\n",
    "test_string = \"Hello@123\"\n",
    "check_string(test_string)\n"
   ]
  },
  {
   "cell_type": "markdown",
   "metadata": {},
   "source": [
    "3. Now, make sure that the string is made up of both alphabets and at least one number:\n"
   ]
  },
  {
   "cell_type": "code",
   "execution_count": null,
   "metadata": {},
   "outputs": [],
   "source": [
    "import re\n",
    "\n",
    "def is_valid_string(s):\n",
    "    # Use a regular expression to check if the string contains at least one letter and one number\n",
    "    return bool(re.search(r'[a-zA-Z]', s)) and bool(re.search(r'\\d', s))\n",
    "\n",
    "test_string = \"abc123\"\n",
    "if is_valid_string(test_string):\n",
    "    print(f\"The string '{test_string}' is valid.\")\n",
    "else:\n",
    "    print(f\"The string '{test_string}' is not valid.\")\n"
   ]
  },
  {
   "cell_type": "markdown",
   "metadata": {},
   "source": [
    "4. Now, make sure that the string is made up of both alphabets, at least one number, and at least one special character:"
   ]
  },
  {
   "cell_type": "code",
   "execution_count": null,
   "metadata": {},
   "outputs": [],
   "source": [
    "import string\n",
    "\n",
    "def is_valid_string(s):\n",
    "    has_alpha = any(c.isalpha() for c in s)\n",
    "    has_digit = any(c.isdigit() for c in s)\n",
    "    has_special = any(c in string.punctuation for c in s)\n",
    "\n",
    "    return has_alpha and has_digit and has_special\n",
    "\n",
    "# Example usage\n",
    "test_string = \"Hello123!\"\n",
    "if is_valid_string(test_string):\n",
    "    print(\"The string is valid.\")\n",
    "else:\n",
    "    print(\"The string is not valid.\")\n"
   ]
  },
  {
   "cell_type": "markdown",
   "metadata": {},
   "source": [
    "5. Now, modify the above code so that if the user enters an invalid string, the program should ask the user to enter another string again, and keep asking until a valid string has been entered."
   ]
  },
  {
   "cell_type": "code",
   "execution_count": null,
   "metadata": {},
   "outputs": [],
   "source": [
    "def is_valid_string(s):\n",
    "    # Define your validity criteria here.\n",
    "    # In this example, a valid string is non-empty and not just whitespace.\n",
    "    return bool(s and s.strip())\n",
    "\n",
    "def get_valid_string():\n",
    "    while True:\n",
    "        user_input = input(\"Enter a valid string: \")\n",
    "        if is_valid_string(user_input):\n",
    "            return user_input\n",
    "        else:\n",
    "            print(\"Invalid input. Please try again.\")\n",
    "\n",
    "# Usage example\n",
    "valid_string = get_valid_string()\n",
    "print(f\"You entered a valid string: '{valid_string}'\")\n"
   ]
  }
 ],
 "metadata": {
  "kernelspec": {
   "display_name": "Python 3",
   "language": "python",
   "name": "python3"
  },
  "language_info": {
   "codemirror_mode": {
    "name": "ipython",
    "version": 3
   },
   "file_extension": ".py",
   "mimetype": "text/x-python",
   "name": "python",
   "nbconvert_exporter": "python",
   "pygments_lexer": "ipython3",
   "version": "3.11.5"
  }
 },
 "nbformat": 4,
 "nbformat_minor": 2
}
